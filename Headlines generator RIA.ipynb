{
 "cells": [
  {
   "cell_type": "markdown",
   "metadata": {},
   "source": [
    "# Headlines generation from news articles in Russian¶"
   ]
  },
  {
   "cell_type": "code",
   "execution_count": 82,
   "metadata": {},
   "outputs": [],
   "source": [
    "import numpy as np\n",
    "import pandas as pd"
   ]
  },
  {
   "cell_type": "code",
   "execution_count": 83,
   "metadata": {},
   "outputs": [],
   "source": [
    "data_path = 'input/ria_1k.json'\n",
    "glove_path = 'input/glove.6B.50d.txt'"
   ]
  },
  {
   "cell_type": "code",
   "execution_count": 89,
   "metadata": {},
   "outputs": [
    {
     "data": {
      "text/html": [
       "<div>\n",
       "<style scoped>\n",
       "    .dataframe tbody tr th:only-of-type {\n",
       "        vertical-align: middle;\n",
       "    }\n",
       "\n",
       "    .dataframe tbody tr th {\n",
       "        vertical-align: top;\n",
       "    }\n",
       "\n",
       "    .dataframe thead th {\n",
       "        text-align: right;\n",
       "    }\n",
       "</style>\n",
       "<table border=\"1\" class=\"dataframe\">\n",
       "  <thead>\n",
       "    <tr style=\"text-align: right;\">\n",
       "      <th></th>\n",
       "      <th>text</th>\n",
       "      <th>title</th>\n",
       "    </tr>\n",
       "  </thead>\n",
       "  <tbody>\n",
       "    <tr>\n",
       "      <th>0</th>\n",
       "      <td>&lt;p&gt;&lt;strong&gt;автор мария балябина &lt;br /&gt;&lt;/strong...</td>\n",
       "      <td>украинская люстрация: жертвоприношение во власти</td>\n",
       "    </tr>\n",
       "    <tr>\n",
       "      <th>1</th>\n",
       "      <td>&lt;p&gt;&lt;strong&gt;&lt;/strong&gt;&lt;/p&gt;\\n&lt;p&gt;&lt;strong&gt;москва, 2...</td>\n",
       "      <td>цена на нефть марки brent поднялась выше $73 з...</td>\n",
       "    </tr>\n",
       "    <tr>\n",
       "      <th>2</th>\n",
       "      <td>&lt;p&gt;&lt;strong&gt;&lt;/strong&gt;&lt;/p&gt;\\n&lt;p&gt;&lt;strong&gt;бангкок, ...</td>\n",
       "      <td>число пострадавших в аварии в таиланде россиян...</td>\n",
       "    </tr>\n",
       "    <tr>\n",
       "      <th>3</th>\n",
       "      <td>&lt;p&gt;&lt;strong&gt;&lt;/strong&gt;&lt;/p&gt;\\n&lt;p&gt;&lt;strong&gt;москва, 2...</td>\n",
       "      <td>собянин открыл детсад в хорошево-мневниках в м...</td>\n",
       "    </tr>\n",
       "    <tr>\n",
       "      <th>4</th>\n",
       "      <td>&lt;p&gt;&lt;strong&gt;&lt;/strong&gt;&lt;/p&gt;\\n&lt;p&gt;&lt;strong&gt;москва, 2...</td>\n",
       "      <td>\"ташир\" построит в москве перинатально-кардиол...</td>\n",
       "    </tr>\n",
       "  </tbody>\n",
       "</table>\n",
       "</div>"
      ],
      "text/plain": [
       "                                                text  \\\n",
       "0  <p><strong>автор мария балябина <br /></strong...   \n",
       "1  <p><strong></strong></p>\\n<p><strong>москва, 2...   \n",
       "2  <p><strong></strong></p>\\n<p><strong>бангкок, ...   \n",
       "3  <p><strong></strong></p>\\n<p><strong>москва, 2...   \n",
       "4  <p><strong></strong></p>\\n<p><strong>москва, 2...   \n",
       "\n",
       "                                               title  \n",
       "0   украинская люстрация: жертвоприношение во власти  \n",
       "1  цена на нефть марки brent поднялась выше $73 з...  \n",
       "2  число пострадавших в аварии в таиланде россиян...  \n",
       "3  собянин открыл детсад в хорошево-мневниках в м...  \n",
       "4  \"ташир\" построит в москве перинатально-кардиол...  "
      ]
     },
     "execution_count": 89,
     "metadata": {},
     "output_type": "execute_result"
    }
   ],
   "source": [
    "data = pd.read_json(data_path, lines=True)\n",
    "data.head()"
   ]
  },
  {
   "cell_type": "markdown",
   "metadata": {},
   "source": [
    "## 1 Data Preprocessing\n",
    "- remove HTML markup\n",
    "- lowercase\n",
    "- remove stopwords"
   ]
  },
  {
   "cell_type": "code",
   "execution_count": 90,
   "metadata": {},
   "outputs": [],
   "source": [
    "import re\n",
    "# !pip install stop-words\n",
    "# from stop_words import get_stop_words\n",
    "# stop_words = get_stop_words('Russian')\n",
    "\n",
    "\n",
    "def preprocess(text):\n",
    "    text = text.lower()\n",
    "#     # remove stopwords\n",
    "#     text = text.split()\n",
    "#     newtext = []\n",
    "#     for word in text:\n",
    "#         if word not in stop_words:\n",
    "#             newtext.append(word)\n",
    "#     text = \" \".join(newtext)\n",
    "\n",
    "    text = re.sub(r\"\\b\\d+\\b\", \"\", text) # remove nombers\n",
    "    text = re.sub(r'\\(.*\\)','',text)\n",
    "    text = re.sub(r'[^а-яА-Я0-9. ]','',text) # remove punctuations\n",
    "    text = re.sub(r'\\.',' . ',text)\n",
    "    return text"
   ]
  },
  {
   "cell_type": "code",
   "execution_count": 91,
   "metadata": {},
   "outputs": [
    {
     "name": "stdout",
     "output_type": "stream",
     "text": [
      "<p><strong>автор мария балябина <br /></strong></p>\n",
      "<p style=\"float: right\"><img src=\"/images/103612/95/1036129592.jpg\" border=\"0\" alt=\"украинская люстрация\\: жертвоприношение во власти\" hspace=\"5\" width=\"1920\" height=\"1080\" tag=\"[-json: {'type':'media','injectiontype':'media','media_id':'1036129301','media_variant_type':'inject','media_title':'украинская люстрация\\\\: жертвоприношение во власти'}-]\" /></p>\n",
      "<p>на украине уволили уже больше 500 чиновников. это &ndash; люстрация в&nbsp;деле. объявл \n",
      "\n",
      "автор мария балябина      .   украинская люстрация жертвоприношение во власти     украинская люстрация жертвоприношение во власти на украине уволили уже больше  чиновников .  это  люстрация вделе .  объявл\n"
     ]
    }
   ],
   "source": [
    "sample = data['text'][0][:500]\n",
    "print(sample,'\\n')\n",
    "print(preprocess(sample))"
   ]
  },
  {
   "cell_type": "code",
   "execution_count": 92,
   "metadata": {},
   "outputs": [],
   "source": [
    "data['title'] = data['title'].apply(lambda x:preprocess(x))\n",
    "data['text'] = data['text'].apply(lambda x:preprocess(x))"
   ]
  },
  {
   "cell_type": "code",
   "execution_count": 93,
   "metadata": {},
   "outputs": [
    {
     "name": "stdout",
     "output_type": "stream",
     "text": [
      "москва  дек риа новости .  цена нанефть марки  ранее впонедельник падавшая допятилетних минимумов поднялась выше психологической отметки в доллара забаррель свидетельствуют данные торгов .   .        по состоянию на .  мск стоимость фьючерсов насевероморскую смесь  растет на до доллара забаррель иуже поднималась до доллара .  стоимость январских фьючерсов налегкую нефть марки  снижалась на до доллара забаррель . ранее входе торгов фьючерсы на и дешевели до и доллара забаррель соответственно минимумов соктября ииюля  года . в четверг нам заседании ввене странычлены опек решили сохранить квоту надобычу нефти науровне  миллионов баррелей вдень доследующего заседания организации виюне  года .  на этом фоне цены нанефть обновили многолетние минимумы . \n",
      "\n",
      "цена на нефть марки  поднялась выше  за баррель\n"
     ]
    }
   ],
   "source": [
    "x = data['text']\n",
    "y = data['title']\n",
    "i=1\n",
    "print(x[i],y[i],sep='\\n\\n')"
   ]
  },
  {
   "cell_type": "code",
   "execution_count": null,
   "metadata": {},
   "outputs": [],
   "source": []
  },
  {
   "cell_type": "code",
   "execution_count": null,
   "metadata": {},
   "outputs": [],
   "source": []
  },
  {
   "cell_type": "code",
   "execution_count": null,
   "metadata": {},
   "outputs": [],
   "source": []
  },
  {
   "cell_type": "markdown",
   "metadata": {},
   "source": [
    " ## Evaluation Metrics\n",
    " The following metrics:\n",
    " **ROUGE** measures n-gram overlap between predicted headlines\n",
    "and gold labels. Here we report the R-1, R-2, R-L scores in terms of\n",
    "(p)recision $\\frac{\\#overlap}{\\#predicted}$,\n",
    "(r)ecall $\\frac{\\#overlap}{\\#gold}$ and F1 $\\frac{2· p · r}{p+r}$.\n",
    "\n",
    "**Relative Length** measures the ratio between the length of predicted headlines and the gold labels $\\frac{LenPredict}{LenGold}$.\n"
   ]
  },
  {
   "cell_type": "code",
   "execution_count": 47,
   "metadata": {},
   "outputs": [],
   "source": [
    "# use PyRouge for ROUGE Score Evaluation"
   ]
  },
  {
   "cell_type": "code",
   "execution_count": null,
   "metadata": {},
   "outputs": [],
   "source": []
  },
  {
   "cell_type": "code",
   "execution_count": null,
   "metadata": {},
   "outputs": [],
   "source": []
  },
  {
   "cell_type": "markdown",
   "metadata": {},
   "source": [
    "# References:\n",
    "\n",
    "1. Stopwords Russian (RU) https://github.com/stopwords-iso/stopwords-ru\n",
    "\n",
    "\n"
   ]
  },
  {
   "cell_type": "code",
   "execution_count": null,
   "metadata": {},
   "outputs": [],
   "source": []
  }
 ],
 "metadata": {
  "kernelspec": {
   "display_name": "Python 3",
   "language": "python",
   "name": "python3"
  },
  "language_info": {
   "codemirror_mode": {
    "name": "ipython",
    "version": 3
   },
   "file_extension": ".py",
   "mimetype": "text/x-python",
   "name": "python",
   "nbconvert_exporter": "python",
   "pygments_lexer": "ipython3",
   "version": "3.8.2"
  }
 },
 "nbformat": 4,
 "nbformat_minor": 4
}
